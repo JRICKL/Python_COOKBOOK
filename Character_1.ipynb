{
 "cells": [
  {
   "cell_type": "code",
   "execution_count": null,
   "metadata": {},
   "outputs": [],
   "source": [
    "# 第一章 数据结构和算法\n"
   ]
  },
  {
   "cell_type": "code",
   "execution_count": 3,
   "metadata": {},
   "outputs": [
    {
     "output_type": "stream",
     "name": "stdout",
     "text": "ACME\n(232, 23, 24)\n"
    }
   ],
   "source": [
    "## 1.1 将序列分解为单独的变量\n",
    "\n",
    "# 可迭代的对象就可以执行分解操作\n",
    "data = ['ACME',50,3,(232,23,24)]\n",
    "name,shares,price,date = data\n",
    "print(name)\n",
    "print(date)"
   ]
  },
  {
   "cell_type": "code",
   "execution_count": 4,
   "metadata": {},
   "outputs": [
    {
     "output_type": "stream",
     "name": "stdout",
     "text": "Dave dave@example.com ['7773-2', '23747']\n[10, 9, 8, 7, 6] 5\nnobody ['*', '-2', '-2', 'Unprivileged User'] /var/empty /usr/bin/false\n"
    }
   ],
   "source": [
    "## 1.2 解压可迭代对象赋值给多个变量\n",
    "\n",
    "# *的使用\n",
    "# phone_numbers 为列表变量\n",
    "record = ('Dave','dave@example.com','7773-2','23747')\n",
    "name,email,*phone_numbers = record\n",
    "print(name,email,phone_numbers)\n",
    "\n",
    "# *号表达式用于列表中\n",
    "*trainling,current = [10,9,8,7,6,5]\n",
    "print(trainling,current)\n",
    "\n",
    "# *号用于字符串的操作,可以使用 _ 实现丢弃元素\n",
    "line = 'nobody:*:-2:-2:Unprivileged User:/var/empty:/usr/bin/false'\n",
    "uname,*fields,homedir,sh = line.split(':')\n",
    "print(uname,fields,homedir,sh)\n"
   ]
  },
  {
   "cell_type": "code",
   "execution_count": 7,
   "metadata": {},
   "outputs": [
    {
     "output_type": "stream",
     "name": "stdout",
     "text": "deque([1, 2, 3], maxlen=3)\ndeque([2, 3, 4], maxlen=3)\ndeque([1, 2, 3], maxlen=3)\ndeque([2, 3], maxlen=3)\n"
    }
   ],
   "source": [
    "## 1.3 保留最后N个元素\n",
    "\n",
    "# 如何保留最后有限几个元素的历史记录\n",
    "# deque 指定大小的队列\n",
    "from collections import deque\n",
    "\n",
    "q = deque(maxlen = 3)\n",
    "q.append(1)\n",
    "q.append(2)\n",
    "q.append(3)\n",
    "print(q)\n",
    "q.append(4)\n",
    "print(q)\n",
    "\n",
    "# 提供左插入、弹出功能\n",
    "q.appendleft(1)\n",
    "print(q)\n",
    "q.popleft()\n",
    "print(q)"
   ]
  },
  {
   "cell_type": "code",
   "execution_count": 11,
   "metadata": {},
   "outputs": [
    {
     "output_type": "stream",
     "name": "stdout",
     "text": "[42, 37, 23]\n[-4, 1, 2]\n[{'name': 'YHOO', 'shares': 45, 'price': 16.35}, {'name': 'FB', 'shares': 200, 'price': 21.09}, {'name': 'HPQ', 'shares': 35, 'price': 31.75}]\n[{'name': 'AAPL', 'shares': 50, 'price': 543.22}, {'name': 'ACME', 'shares': 75, 'price': 115.65}, {'name': 'IBM', 'shares': 100, 'price': 91.1}]\n[-4, 2, 1, 23, 7, 2, 18, 23, 42, 37, 8]\n-4\n1\n2\n"
    }
   ],
   "source": [
    "## 1.4 查找最大或者最小的N个元素\n",
    "\n",
    "# heapq 模块有两个函数：nlargest()和nsmallest\n",
    "\n",
    "import heapq\n",
    "nums = [1,8,2,23,7,-4,18,23,42,37,2]\n",
    "print(heapq.nlargest(3,nums))\n",
    "print(heapq.nsmallest(3,nums))\n",
    "\n",
    "# 两个函数都能接受一个关键字参数，用于更复杂的数据结构中\n",
    "\n",
    "portfolio = [\n",
    "    {'name':'IBM','shares':100,'price':91.1},\n",
    "    {'name':'AAPL','shares':50,'price':543.22},\n",
    "    {'name':'FB','shares':200,'price':21.09},\n",
    "    {'name':'HPQ','shares':35,'price':31.75},\n",
    "    {'name':'YHOO','shares':45,'price':16.35},\n",
    "    {'name':'ACME','shares':75,'price':115.65}\n",
    "]\n",
    "\n",
    "cheap = heapq.nsmallest(3,portfolio,key=lambda s:s['price'])\n",
    "expensive = heapq.nlargest(3,portfolio,key=lambda s:s['price'])\n",
    "print(cheap)\n",
    "print(expensive)\n",
    "\n",
    "# heapq 还可以用于堆排序\n",
    "nums = [1,8,2,23,7,-4,18,23,42,37,2]\n",
    "heap = list(nums)\n",
    "heapq.heapify(heap)\n",
    "print(heap)\n",
    "print(heapq.heappop(heap))\n",
    "print(heapq.heappop(heap))\n",
    "print(heapq.heappop(heap))\n",
    "\n",
    "# tips 如果想要查找的元素个数相对较小，可以用nlargest\n",
    "# 如果只查找某个元素，可以用min,max\n",
    "# 如何查找元素个数N较大，可以先排序在进行切片操作"
   ]
  },
  {
   "cell_type": "code",
   "execution_count": 12,
   "metadata": {},
   "outputs": [
    {
     "output_type": "stream",
     "name": "stdout",
     "text": "Item('bar')\nItem('spam')\nItem('foo')\nItem('gork')\n"
    }
   ],
   "source": [
    "## 1.5 实现一个优先级队列\n",
    "\n",
    "# 问：怎样实现一个按优先级排序的队列，并且pop操作总是返回优先级最高的那个元素\n",
    "# heapq 的堆插入和堆输出\n",
    "# -priority 保证优先级 index 保证同样优先级的可以按插入次序输出\n",
    "import heapq\n",
    "\n",
    "class PriorityQueue:\n",
    "    def __init__(self):\n",
    "        self._queue = []\n",
    "        self._index = 0\n",
    "    def push(self,item,priority):\n",
    "        heapq.heappush(self._queue,(-priority,self._index,item))\n",
    "        self._index += 1\n",
    "    # -1 是取三元组里面的item\n",
    "    def pop(self):\n",
    "        return heapq.heappop(self._queue)[-1]\n",
    "\n",
    "\n",
    "class Item:\n",
    "    def __init__(self,name):\n",
    "        self.name = name\n",
    "    # 对一个类的描述\n",
    "    def __repr__(self):\n",
    "        return 'Item({!r})'.format(self.name)\n",
    "\n",
    "q = PriorityQueue()\n",
    "q.push(Item('foo'),1)\n",
    "q.push(Item('bar'),5)\n",
    "q.push(Item('spam'),4)\n",
    "q.push(Item('gork'),1)\n",
    "print(q.pop())\n",
    "print(q.pop())\n",
    "print(q.pop())\n",
    "print(q.pop())\n"
   ]
  },
  {
   "cell_type": "code",
   "execution_count": 13,
   "metadata": {},
   "outputs": [
    {
     "output_type": "stream",
     "name": "stdout",
     "text": "defaultdict(<class 'list'>, {'a': [1, 2, 1], 'b': [4]})\ndefaultdict(<class 'set'>, {'a': {1, 2}, 'b': {4}})\n"
    }
   ],
   "source": [
    "## 1.6 字典中的键映射多个值\n",
    "# 如何实现一个键对应多个值的字典 multidict？\n",
    "\n",
    "# 最简单的实现方案\n",
    "d = {\n",
    "    'a':[1,2,3],\n",
    "    'b':[4,5]\n",
    "}\n",
    "\n",
    "# collections defaultdict 也可以很快速的实现此功能\n",
    "\n",
    "from collections import defaultdict\n",
    "\n",
    "# list 同一键里面的元素可重复\n",
    "# set  不重复\n",
    "d =defaultdict(list)\n",
    "d['a'].append(1)\n",
    "d['a'].append(2)\n",
    "d['b'].append(4)\n",
    "d['a'].append(1)\n",
    "print(d)\n",
    "\n",
    "d = defaultdict(set)\n",
    "d['a'].add(1)\n",
    "d['a'].add(2)\n",
    "d['b'].add(4)\n",
    "d['a'].add(1)\n",
    "print(d)"
   ]
  },
  {
   "cell_type": "code",
   "execution_count": 6,
   "metadata": {},
   "outputs": [
    {
     "output_type": "stream",
     "name": "stdout",
     "text": "foo 1\nbar 5\nspam 3\ngrok 4\nfoo 1\nbar 2\nspam 3\ngrok 4\n"
    }
   ],
   "source": [
    "## 1.7 字典排序\n",
    "\n",
    "# 创建一个字典，并按关键字创立的顺序排序\n",
    "# orderedDict 占用空间比较大\n",
    "\n",
    "from collections import OrderedDict\n",
    "\n",
    "d = OrderedDict()\n",
    "d['foo']=1\n",
    "d['bar']=2\n",
    "d['spam']=3\n",
    "d['grok']=4\n",
    "\n",
    "for key in d:\n",
    "    print(key,d[key])"
   ]
  },
  {
   "cell_type": "code",
   "execution_count": 4,
   "metadata": {},
   "outputs": [
    {
     "output_type": "stream",
     "name": "stdout",
     "text": "(10.75, 'FB')\n[(10.75, 'FB'), (37.2, 'HPQ'), (45.23, 'ACME'), (205.55, 'INM'), (612.78, 'AAPL')]\n612.78\nAAPL\n"
    }
   ],
   "source": [
    "# 1.8 字典运算\n",
    "# 需要将利用zip将字典key和value反转\n",
    "\n",
    "price = {\n",
    "    'ACME':45.23,\n",
    "    'AAPL':612.78,\n",
    "    'INM':205.55,\n",
    "    'HPQ':37.20,\n",
    "    'FB':10.75\n",
    "}\n",
    "min_price = min(zip(price.values(),price.keys()))\n",
    "print(min_price)\n",
    "max_price  = max(zip(price.values(),price.keys()))\n",
    "\n",
    "# 排序\n",
    "# 注意sorted创建的是一个只能访问一次的迭代器\n",
    "prices_sorted = sorted(zip(price.values(),price.keys()))\n",
    "print(prices_sorted)\n",
    "\n",
    "# 直接对字典的values取最值或排序\n",
    "print(max(price.values()))\n",
    "\n",
    "# 或者使用min max函数的key参数\n",
    "print(max(price,key = lambda k:price[k]))"
   ]
  },
  {
   "cell_type": "code",
   "execution_count": 10,
   "metadata": {},
   "outputs": [
    {
     "output_type": "stream",
     "name": "stdout",
     "text": "{'y', 'x'}\n{'z'}\n{('y', 2)}\n{'y': 2, 'x': 1}\n"
    }
   ],
   "source": [
    "# 1.9 查找两字典的相同点\n",
    "\n",
    "a = {\n",
    "    'x':1,\n",
    "    'y':2,\n",
    "    'z':3\n",
    "}\n",
    "\n",
    "b = {\n",
    "    'w':10,\n",
    "    'x':11,\n",
    "    'y':2\n",
    "}\n",
    "\n",
    "# 集合操作\n",
    "print(a.keys()&b.keys())\n",
    "print(a.keys()-b.keys())\n",
    "print(a.items() & b.items())\n",
    "\n",
    "# 过滤字典元素\n",
    "c = {key:a[key] for  key in a.keys() - {'z','w'}}\n",
    "print(c)\n",
    "\n",
    "# 注意字典的key函数和value函数操作并不一样，value可能会相同"
   ]
  },
  {
   "cell_type": "code",
   "execution_count": 13,
   "metadata": {},
   "outputs": [
    {
     "output_type": "stream",
     "name": "stdout",
     "text": "[1, 5, 2, 9, 10]\n[{'x': 1, 'y': 2}, {'x': 1, 'y': 3}, {'x': 2, 'y': 4}]\n[{'x': 1, 'y': 2}, {'x': 2, 'y': 4}]\n"
    }
   ],
   "source": [
    "# 1.10 删除序列相同的元素并保持顺序\n",
    "\n",
    "# （1） 如果序列元素可hash\n",
    "def dedupe(items):\n",
    "    seen = set()\n",
    "    for item in items:\n",
    "        if item not in seen:\n",
    "            yield item\n",
    "            seen.add(item)\n",
    "a = [1,5,2,1,9,1,5,10]\n",
    "print(list(dedupe(a)))\n",
    "\n",
    "# 不可hash 如dict\n",
    "\n",
    "def dedupe(items,key = None):\n",
    "    seen = set()\n",
    "    for item in items:\n",
    "        val = item if key is None else key(item)\n",
    "        if val not in seen:\n",
    "            yield item\n",
    "            seen.add(val)\n",
    "\n",
    "a = [{'x':1,'y':2},{'x':1,'y':3},{'x':1,'y':2},{'x':2,'y':4}]\n",
    "\n",
    "print(list(dedupe(a,key= lambda d:(d['x'],d['y']))))\n",
    "print(list(dedupe(a,key= lambda d:d['x'])))\n",
    "\n",
    "# 集合set也可以消除重复元素，但会改变元素的顺序"
   ]
  },
  {
   "cell_type": "code",
   "execution_count": 21,
   "metadata": {},
   "outputs": [
    {
     "output_type": "stream",
     "name": "stdout",
     "text": "51325.0\n51325.0\n5\n50\n2\nslice(5, 50, 2)\n(5, 10, 2)\nW\nr\nd\n"
    }
   ],
   "source": [
    "# 1.11 命名切片\n",
    "\n",
    "record = '....................100 .......513.25 ..........'\n",
    "cost = int(record[20:23]) * float(record[31:37])\n",
    "print(cost)\n",
    "\n",
    "# 命名切片使代码更加清晰可读\n",
    "SHARES = slice(20,23)\n",
    "PRICE = slice(31,37)\n",
    "cost = int(record[SHARES]) * float(record[PRICE])\n",
    "print(cost)\n",
    "\n",
    "a = slice(5,50,2)\n",
    "print(a.start)\n",
    "print(a.stop)\n",
    "print(a.step)\n",
    "print(a)\n",
    "\n",
    "# 使用indices(size)方法将切片对象映射到一个已知大小的序列上\n",
    "s = 'HelloWorld'\n",
    "print(a.indices(len(s)))\n",
    "\n",
    "for i in range(*a.indices(len(s))):\n",
    "    print(s[i])"
   ]
  },
  {
   "cell_type": "code",
   "execution_count": 27,
   "metadata": {},
   "outputs": [
    {
     "output_type": "stream",
     "name": "stdout",
     "text": "[('eyes', 8), ('the', 5), ('look', 4)]\n8\nCounter({'eyes': 8, 'the': 5, 'look': 4, 'into': 3, 'my': 3, 'around': 2, 'not': 1, \"don't\": 1, \"you're\": 1, 'under': 1})\n9\n10\nCounter({'eyes': 8, 'the': 5, 'look': 4, 'into': 3, 'my': 3, 'around': 2, 'not': 1, \"don't\": 1, \"you're\": 1, 'under': 1})\nCounter({'why': 1, 'are': 1, 'you': 1, 'not': 1, 'looking': 1, 'in': 1, 'my': 1, 'eyes': 1})\nCounter({'eyes': 9, 'the': 5, 'look': 4, 'my': 4, 'into': 3, 'not': 2, 'around': 2, \"don't\": 1, \"you're\": 1, 'under': 1, 'why': 1, 'are': 1, 'you': 1, 'looking': 1, 'in': 1})\nCounter({'eyes': 7, 'the': 5, 'look': 4, 'into': 3, 'my': 2, 'around': 2, \"don't\": 1, \"you're\": 1, 'under': 1})\n"
    }
   ],
   "source": [
    "# 1.12 序列中出现次数最多的元素\n",
    "words = [\n",
    "    'look', 'into', 'my', 'eyes', 'look', 'into', 'my', 'eyes',\n",
    "    'the', 'eyes', 'the', 'eyes', 'the', 'eyes', 'not', 'around', 'the',\n",
    "    'eyes', \"don't\", 'look', 'around', 'the', 'eyes', 'look', 'into',\n",
    "    'my', 'eyes', \"you're\", 'under'\n",
    "]\n",
    "from collections import Counter\n",
    "word_counts = Counter(words)\n",
    "top_three = word_counts.most_common(3)\n",
    "print(top_three)\n",
    "\n",
    "# Counter 对象是一个字典\n",
    "print(word_counts['eyes'])\n",
    "print(word_counts)\n",
    "\n",
    "# 增加计数\n",
    "# 手动方法\n",
    "morewords = ['why','are','you','not','looking','in','my','eyes']\n",
    "for word in morewords:\n",
    "    word_counts[word] +=1\n",
    "print(word_counts['eyes'])\n",
    "# 或者使用update方法\n",
    "word_counts.update(morewords)\n",
    "print(word_counts['eyes'])\n",
    "\n",
    "# counter 于数学运算集合\n",
    "a = Counter(words)\n",
    "b = Counter(morewords)\n",
    "print(a)\n",
    "print(b)\n",
    "c = a+b\n",
    "print(c)\n",
    "d= a-b\n",
    "print(d)"
   ]
  },
  {
   "cell_type": "code",
   "execution_count": 31,
   "metadata": {},
   "outputs": [
    {
     "output_type": "stream",
     "name": "stdout",
     "text": "[{'fname': 'Big', 'lname': 'Jones', 'uid': 1004}, {'fname': 'Brian', 'lname': 'Jones', 'uid': 1003}, {'fname': 'David', 'lname': 'Beazley', 'uid': 1002}, {'fname': 'John', 'lname': 'Cleese', 'uid': 1001}]\n[{'fname': 'John', 'lname': 'Cleese', 'uid': 1001}, {'fname': 'David', 'lname': 'Beazley', 'uid': 1002}, {'fname': 'Brian', 'lname': 'Jones', 'uid': 1003}, {'fname': 'Big', 'lname': 'Jones', 'uid': 1004}]\n[{'fname': 'John', 'lname': 'Cleese', 'uid': 1001}, {'fname': 'David', 'lname': 'Beazley', 'uid': 1002}, {'fname': 'Brian', 'lname': 'Jones', 'uid': 1003}, {'fname': 'Big', 'lname': 'Jones', 'uid': 1004}]\n[{'fname': 'David', 'lname': 'Beazley', 'uid': 1002}, {'fname': 'John', 'lname': 'Cleese', 'uid': 1001}, {'fname': 'Big', 'lname': 'Jones', 'uid': 1004}, {'fname': 'Brian', 'lname': 'Jones', 'uid': 1003}]\n"
    }
   ],
   "source": [
    "# 1.13 通过某个关键字排序一个字典列表\n",
    "\n",
    "# 一个字典列表，通过一个或者某几个字典字段来排序这个列表\n",
    "rows = [\n",
    "    {'fname': 'Brian', 'lname': 'Jones', 'uid': 1003},\n",
    "    {'fname': 'David', 'lname': 'Beazley', 'uid': 1002},\n",
    "    {'fname': 'John', 'lname': 'Cleese', 'uid': 1001},\n",
    "    {'fname': 'Big', 'lname': 'Jones', 'uid': 1004}\n",
    "]\n",
    "\n",
    "from operator import itemgetter\n",
    "row_by_fname = sorted(rows,key=itemgetter('fname'))\n",
    "row_by_uid = sorted(rows,key = itemgetter('uid'))\n",
    "print(row_by_fname)\n",
    "print(row_by_uid)\n",
    "\n",
    "# itemgetter()与lambda相似，同样也适用min\\max函数\n",
    "row_by_uid_1 = sorted(rows,key= lambda d:d['uid'])\n",
    "print(row_by_uid_1)\n",
    "\n",
    "\n",
    "# itemgetter()函数也可以支持多个keys\n",
    "row_by_lfname = sorted(rows,key=itemgetter('lname','fname'))\n",
    "print(row_by_lfname)"
   ]
  },
  {
   "cell_type": "code",
   "execution_count": 1,
   "metadata": {},
   "outputs": [],
   "source": [
    "# 1.14 排序不支持原生比较的对象\n",
    "\n",
    "# sorted 函数的key参数,与上述例子相同"
   ]
  },
  {
   "cell_type": "code",
   "execution_count": 3,
   "metadata": {},
   "outputs": [
    {
     "output_type": "stream",
     "name": "stdout",
     "text": "07/01/2012\n  {'address': '5412 N CLARK', 'date': '07/01/2012'}\n  {'address': '4801 N BROADWAY', 'date': '07/01/2012'}\n07/02/2012\n  {'address': '5800 E 58TH', 'date': '07/02/2012'}\n  {'address': '5645 N RAVENSWOOD', 'date': '07/02/2012'}\n  {'address': '1060 W ADDISON', 'date': '07/02/2012'}\n07/03/2012\n  {'address': '2122 N CLARK', 'date': '07/03/2012'}\n07/04/2012\n  {'address': '5148 N CLARK', 'date': '07/04/2012'}\n  {'address': '1039 W GRANVILLE', 'date': '07/04/2012'}\n"
    }
   ],
   "source": [
    "# 1.15 通过某个字段将记录分组\n",
    "# itertools.groupby()函数\n",
    "\n",
    "rows = [\n",
    "    {'address': '5412 N CLARK', 'date': '07/01/2012'},\n",
    "    {'address': '5148 N CLARK', 'date': '07/04/2012'},\n",
    "    {'address': '5800 E 58TH', 'date': '07/02/2012'},\n",
    "    {'address': '2122 N CLARK', 'date': '07/03/2012'},\n",
    "    {'address': '5645 N RAVENSWOOD', 'date': '07/02/2012'},\n",
    "    {'address': '1060 W ADDISON', 'date': '07/02/2012'},\n",
    "    {'address': '4801 N BROADWAY', 'date': '07/01/2012'},\n",
    "    {'address': '1039 W GRANVILLE', 'date': '07/04/2012'},\n",
    "]\n",
    "\n",
    "# 使用groupby()之前需要对序列进行排序\n",
    "# 返回值为一个值和一个迭代对象\n",
    "from operator import itemgetter\n",
    "from itertools import groupby\n",
    "\n",
    "rows.sort(key= itemgetter('date'))\n",
    "\n",
    "for date,item in groupby(rows,key = itemgetter('date')):\n",
    "    print(date)\n",
    "    for i in item:\n",
    "        print(' ',i)"
   ]
  },
  {
   "cell_type": "code",
   "execution_count": 15,
   "metadata": {},
   "outputs": [
    {
     "output_type": "stream",
     "name": "stdout",
     "text": "[1, 4, 10, 2, 3]\n[-5, -7, -1]\n<class 'generator'>\n1\n4\n10\n2\n3\n['1', '2', '-3', '4', '5']\n[1.0, 2.0, 3.1622776601683795, 1.4142135623730951, 1.7320508075688772]\n[1, 4, 0, 10, 0, 2, 3, 0]\n[False, False, True, False, False, True, True, False]\n['5800 E 58TH', '1060 W ADDISON', '4801 N BROADWAY']\n"
    }
   ],
   "source": [
    "# 1.16 过滤序列元素\n",
    "\n",
    "# 解决方案：列表推导，但会占用大量内存\n",
    "mylist = [1, 4, -5, 10, -7, 2, 3, -1]\n",
    "print([n for n in mylist if n > 0])\n",
    "print([n for n in mylist if n < 0])\n",
    "# 使用生成器表达式迭代\n",
    "pos = (n for n in mylist if n > 0)\n",
    "print(type(pos))\n",
    "for x in pos:\n",
    "    print(x)\n",
    "\n",
    "# 解决方案：filter()函数过滤器\n",
    "values = ['1', '2', '-3', '-', '4', 'N/A', '5']\n",
    "def is_int(val):\n",
    "    try:\n",
    "        x = int(val)\n",
    "        return True\n",
    "    except ValueError:\n",
    "        return False\n",
    "\n",
    "ivals = list(filter(is_int,values))\n",
    "print(ivals)\n",
    "\n",
    "# 列表生成器还可以进行运算，一些例子\n",
    "mylist = [1, 4, -5, 10, -7, 2, 3, -1]\n",
    "import math\n",
    "print([math.sqrt(n) for n in mylist if n> 0])\n",
    "print([n if n > 0 else 0 for n in mylist])\n",
    "\n",
    "# 解决方案：itertools.compress() \n",
    "# 以一个iterable对象和一个相对应的boolean选择器作为输出，输出选择器为True的元素\n",
    "# 关键是构建boolean序列\n",
    "addresses = [\n",
    "    '5412 N CLARK',\n",
    "    '5148 N CLARK',\n",
    "    '5800 E 58TH',\n",
    "    '2122 N CLARK',\n",
    "    '5645 N RAVENSWOOD',\n",
    "    '1060 W ADDISON',\n",
    "    '4801 N BROADWAY',\n",
    "    '1039 W GRANVILLE',\n",
    "]\n",
    "counts = [ 0, 3, 10, 4, 1, 7, 6, 1]\n",
    "from itertools import compress\n",
    "more5 = [n>5 for n in counts]\n",
    "print(more5)\n",
    "print(list(compress(addresses,more5)))"
   ]
  },
  {
   "cell_type": "code",
   "execution_count": 18,
   "metadata": {},
   "outputs": [
    {
     "output_type": "stream",
     "name": "stdout",
     "text": "{'AAPL': 612.78, 'IBM': 205.55}\n{'AAPL': 612.78, 'IBM': 205.55, 'HPQ': 37.2}\n{'AAPL': 612.78, 'IBM': 205.55}\n"
    }
   ],
   "source": [
    "# 1.17 从字典中提取子集\n",
    "\n",
    "prices = {\n",
    "    'ACME': 45.23,\n",
    "    'AAPL': 612.78,\n",
    "    'IBM': 205.55,\n",
    "    'HPQ': 37.20,\n",
    "    'FB': 10.75\n",
    "}\n",
    "p1 = {key: value for key, value in prices.items() if value > 200}\n",
    "print(p1)\n",
    "tech_names = {'AAPL', 'IBM', 'HPQ', 'MSFT'}\n",
    "p2 = {key: value for key, value in prices.items() if key in tech_names}\n",
    "print(p2)\n",
    "\n",
    "# 或者通过使用dict 函数\n",
    "p1 = dict((key, value) for key, value in prices.items() if value > 200)\n",
    "print(p1)"
   ]
  },
  {
   "cell_type": "code",
   "execution_count": 33,
   "metadata": {},
   "outputs": [
    {
     "output_type": "stream",
     "name": "stdout",
     "text": "Subscriber(addr='jonesy@example.com', joined='2012-10-19')\njonesy@example.com\n2012-10-19\n2\njonesy@example.com 2012-10-19\njonesy@example.com\nStock(name='ACME', shares=100, price=123.45)\nStock(name='ACME', shares=75, price=123.45)\nStock(name='ACME', shares=100, price=123.45, date=None, time=None)\nStock(name='ACME', shares=100, price=123.45, date='12/17/2012', time=None)\n"
    }
   ],
   "source": [
    "# 1.18 映射名称到序列元素\n",
    "# 通过下标访问的元素转化为通过名称来访问\n",
    "# collections.nametuple()函数\n",
    "\n",
    "from collections import namedtuple\n",
    "Subscriber =  namedtuple('Subscriber',['addr','joined'])\n",
    "sub = Subscriber('jonesy@example.com','2012-10-19')\n",
    "print(sub)\n",
    "print(sub.addr)\n",
    "print(sub.joined)\n",
    "# 尽管nametuple实例与普通的类实例比较像，但它跟元组类型是可交换的，也支持普通的元组操作，比如索引和解压\n",
    "print(len(sub))\n",
    "addr,joined = sub\n",
    "print(addr,joined)\n",
    "print(sub[0])\n",
    "\n",
    "# 命名元组的意义是使代码表意更清楚\n",
    "# 一个例子\n",
    "from collections import namedtuple\n",
    "\n",
    "Stock = namedtuple('Stock', ['name', 'shares', 'price'])\n",
    "def compute_cost(records):\n",
    "    total = 0.0\n",
    "    for rec in records:\n",
    "        s = Stock(*rec)\n",
    "        total += s.shares * s.price\n",
    "    return total\n",
    "# 命名元组也由于占用空间少，也可以充当字典使用，但元组的命名是不可更改的\n",
    "s = Stock('ACME', 100, 123.45)\n",
    "print(s)\n",
    "# 如果真的需要更改只有使用_replace()方法\n",
    "\n",
    "s = s._replace(shares=75)\n",
    "print(s)\n",
    "\n",
    "# _replace()方法也可以用于补全缺失字段\n",
    "# 必须先创建一个包含缺省值的原型\n",
    "# * 接收任意多个关键字参数并转换为元组\n",
    "# ** 接收任意多个关键字参数并转换为字典\n",
    "Stock = namedtuple('Stock', ['name', 'shares', 'price', 'date', 'time'])\n",
    "stock_prototype = Stock('', 0, 0.0, None, None)\n",
    "# Function to convert a dictionary to a Stock\n",
    "def dict_to_stock(s):\n",
    "    return stock_prototype._replace(**s)\n",
    "\n",
    "a = {'name': 'ACME', 'shares': 100, 'price': 123.45}\n",
    "print(dict_to_stock(a))\n",
    "b = {'name': 'ACME', 'shares': 100, 'price': 123.45, 'date': '12/17/2012'}\n",
    "print(dict_to_stock(b))"
   ]
  },
  {
   "cell_type": "code",
   "execution_count": 1,
   "metadata": {
    "tags": []
   },
   "outputs": [
    {
     "output_type": "stream",
     "name": "stdout",
     "text": "55\n"
    }
   ],
   "source": [
    "# 1.9 转换并同时计算数据\n",
    "\n",
    "# 生成器表达式参数方式\n",
    "nums = [1,2,3,4,5]\n",
    "s = sum(x*x for x in nums)\n",
    "print(s)\n",
    "s = sum((x * x for x in nums)) # 显式的传递一个生成器表达式对象\n",
    "s = sum(x * x for x in nums) # 更加优雅的实现方式，省略了括号"
   ]
  },
  {
   "cell_type": "code",
   "execution_count": 6,
   "metadata": {
    "tags": []
   },
   "outputs": [
    {
     "output_type": "stream",
     "name": "stdout",
     "text": "1\n{'x': 1, 'z': 10, 'w': 40}\n{'z': 10, 'w': 40}\n1\n{'y': 2, 'z': 3}\n{'x': 1, 'z': 3}\n"
    }
   ],
   "source": [
    "# 1.20 合并多个字典或映射\n",
    "\n",
    "# 合并多个字典并查询\n",
    "a = {'x': 1, 'z': 3 }\n",
    "b = {'y': 2, 'z': 4 }\n",
    "\n",
    "from collections import ChainMap\n",
    "c = ChainMap(a,b)\n",
    "# ChainMap 实际上是创建了一个容纳这些字典的列表\n",
    "print(c['x'])\n",
    "\n",
    "# ChainMap 合并后的字典，对字典的操作总是在合并之前的第一个字典上，操作另外字典元素会报错\n",
    "c['z'] = 10\n",
    "c['w'] = 40\n",
    "print(a)\n",
    "del c['x']\n",
    "print(a)\n",
    "# del c['y']\n",
    "# print(b)\n",
    "\n",
    "# update()方法也可以将两个字典合并，但方式是通过创建一个新的字典。在原字典和新字典上的更改不会相互影响\n",
    "a = {'x': 1, 'z': 3 }\n",
    "b = {'y': 2, 'z': 4 }\n",
    "merged = dict(b)\n",
    "merged.update(a)\n",
    "print(merged['x'])\n",
    "del merged['x']\n",
    "print(merged)\n",
    "print(a)\n"
   ]
  },
  {
   "cell_type": "code",
   "execution_count": null,
   "metadata": {},
   "outputs": [],
   "source": []
  }
 ],
 "metadata": {
  "language_info": {
   "codemirror_mode": {
    "name": "ipython",
    "version": 3
   },
   "file_extension": ".py",
   "mimetype": "text/x-python",
   "name": "python",
   "nbconvert_exporter": "python",
   "pygments_lexer": "ipython3",
   "version": "3.7.3-final"
  },
  "orig_nbformat": 2,
  "kernelspec": {
   "name": "python3",
   "display_name": "Python 3"
  }
 },
 "nbformat": 4,
 "nbformat_minor": 2
}