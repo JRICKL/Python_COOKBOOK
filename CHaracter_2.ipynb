{
 "cells": [
  {
   "cell_type": "code",
   "execution_count": 1,
   "metadata": {},
   "outputs": [],
   "source": [
    "# 第二章 字符串和文本"
   ]
  },
  {
   "cell_type": "code",
   "execution_count": 7,
   "metadata": {
    "tags": []
   },
   "outputs": [
    {
     "output_type": "stream",
     "name": "stdout",
     "text": "['asdf fjdk', ' afed, fjek,asdf, foo']\n['asdf', 'fjdk', 'afed', 'fjek', 'asdf', 'foo']\n['asdf', ' ', 'fjdk', ';', 'afed', ',', 'fjek', ',', 'asdf', ',', 'foo']\n['asdf', 'fjdk', 'afed', 'fjek', 'asdf', 'foo']\n[' ', ';', ',', ',', ',', '']\n"
    }
   ],
   "source": [
    "# 2.1 使用多个界定符分割字符串\n",
    "\n",
    "# 需要将一个字符串分割为多个字段，但分隔符（周围有空格）并不是固定的\n",
    "line = 'asdf fjdk; afed, fjek,asdf, foo'\n",
    "print(line.split(';'))\n",
    "import re\n",
    "# 正则表达式 \\s 匹配空白 \\S 匹配非空白\n",
    "print(re.split(r'[;,\\s]\\s*',line))\n",
    "# 使用正则表达式的时候注意是否使用了()捕获分组，如果使用，匹配的文本也将会出现在结果列表\n",
    "fields = re.split(r'(;|,|\\s)\\s*', line)\n",
    "print(fields)\n",
    "\n",
    "values = fields[::2]\n",
    "delimiters= fields[1::2] + ['']\n",
    "print(values)\n",
    "print(delimiters)"
   ]
  },
  {
   "cell_type": "code",
   "execution_count": 8,
   "metadata": {
    "tags": []
   },
   "outputs": [
    {
     "output_type": "stream",
     "name": "stdout",
     "text": "True\nFalse\n"
    }
   ],
   "source": [
    "# 2.2 字符串开头或结尾匹配\n",
    "\n",
    "filename = 'spam.txt'\n",
    "print(filename.endswith('.txt'))\n",
    "print(filename.startswith('file:'))\n",
    "# 若要匹配多种可能，只要将所有匹配项放入一个元组中去\n",
    "\n",
    "# endswith 和startswith 非常方便做字符串开头和结尾检查\n"
   ]
  },
  {
   "cell_type": "code",
   "execution_count": 12,
   "metadata": {
    "tags": []
   },
   "outputs": [
    {
     "output_type": "stream",
     "name": "stdout",
     "text": "True\nTrue\nTrue\n['Dat1.csv', 'Dat2.csv']\nFalse\n"
    },
    {
     "output_type": "execute_result",
     "data": {
      "text/plain": "['5412 N CLARK ST', '1060 W ADDISON ST', '2122 N CLARK ST']"
     },
     "metadata": {},
     "execution_count": 12
    }
   ],
   "source": [
    "# 2.3 用Shell通配符匹配字符串\n",
    "from fnmatch import fnmatch,fnmatchcase\n",
    "print(fnmatch('foo.txt', '*.txt'))\n",
    "print(fnmatch('foo.txt', '?oo.txt'))\n",
    "print(fnmatch('Dat45.csv','Dat[0-9]*'))\n",
    "names = ['Dat1.csv', 'Dat2.csv', 'config.ini', 'foo.py']\n",
    "print([name for name in names if fnmatch(name, 'Dat*.csv')])\n",
    "# fnmath 大小写敏感随系统，而fnmatchcase完全使用你的模式\n",
    "print(fnmatchcase('foo.txt', '*.TXT'))\n",
    "addresses = [\n",
    "    '5412 N CLARK ST',\n",
    "    '1060 W ADDISON ST',\n",
    "    '1039 W GRANVILLE AVE',\n",
    "    '2122 N CLARK ST',\n",
    "    '4802 N BROADWAY',\n",
    "]\n",
    "print([addr for addr in addresses if fnmatchcase(addr,'*ST')])\n",
    "# fnmatch() 函数匹配能力介于简单的字符串方法和强大的正则表达式之间"
   ]
  },
  {
   "cell_type": "code",
   "execution_count": null,
   "metadata": {},
   "outputs": [],
   "source": []
  }
 ],
 "metadata": {
  "language_info": {
   "codemirror_mode": {
    "name": "ipython",
    "version": 3
   },
   "file_extension": ".py",
   "mimetype": "text/x-python",
   "name": "python",
   "nbconvert_exporter": "python",
   "pygments_lexer": "ipython3",
   "version": "3.7.3-final"
  },
  "orig_nbformat": 2,
  "kernelspec": {
   "name": "python3",
   "display_name": "Python 3"
  }
 },
 "nbformat": 4,
 "nbformat_minor": 2
}